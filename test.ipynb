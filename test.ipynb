{
 "cells": [
  {
   "cell_type": "code",
   "execution_count": 24,
   "metadata": {},
   "outputs": [],
   "source": [
    "from dotenv import load_dotenv\n",
    "from app.helpers import *\n",
    "import os\n",
    "\n",
    "load_dotenv()\n",
    "coinmarketcap_api_key = os.getenv('COINMARKETCAP_API')\n",
    "\n",
    "# if __name__ == \"__main__\":\n",
    "    # print(get_map())\n",
    "    # res = compute_holding(coinmarketcap_api_key, 'files/portfolio.json', 'EUR')"
   ]
  },
  {
   "cell_type": "code",
   "execution_count": 44,
   "metadata": {},
   "outputs": [
    {
     "name": "stdout",
     "output_type": "stream",
     "text": [
      "{'ETH': {'price': 3979.9357942651945, 'quantity': 0.7722, 'value': 3073.306420331583, 'currency': 'EUR'}, 'ADA': {'price': 1.72600921715599, 'quantity': 712.181395, 'value': 1229.2316520570107, 'currency': 'EUR'}, 'FLUX': {'price': 1.140278520849111, 'quantity': 1226.22438311, 'value': 1398.2373258017844, 'currency': 'EUR'}, 'SOL': {'price': 219.02430142725967, 'quantity': 10.79697, 'value': 2364.79881178108, 'currency': 'EUR'}, 'AVAX': {'price': 72.06477750481199, 'quantity': 49.710926, 'value': 3582.406821748173, 'currency': 'EUR'}, 'ALEPH': {'price': 0.4239450219456522, 'quantity': 762.6479, 'value': 323.32078070230557, 'currency': 'EUR'}, 'SRM': {'price': 6.696832441101963, 'quantity': 42.43859, 'value': 284.20412626662534, 'currency': 'EUR'}, 'BETH': {'price': 3688.8031297497446, 'quantity': 0.97629, 'value': 3601.341607543378, 'currency': 'EUR'}, 'total': {'value': 15856.847546231942, 'currency': 'EUR', 'profit': 4856.847546231942, 'ROI': 1.4415315951119947}}\n"
     ]
    }
   ],
   "source": [
    "# from app.helpers import _load\n",
    "\n",
    "api_key = os.getenv('COINMARKETCAP_API')\n",
    "portfolio_filename = {'test': 'test'}\n",
    "currency = 'EUR'\n",
    "\n",
    "# def compute_holding(api_key, portfolio_filename, currency):\n",
    "    \"\"\"\n",
    "    Compute the value of your portfolio given the quantity of each token owned\n",
    "\n",
    "    :param api_key:            string,  the API key required to use the API\n",
    "    :param portfolio_filename: string,  json file containing the info about your owned tokens\n",
    "    :param currency:           string,  the currency wanted\n",
    "    :return:                   dict,    value of each coins holded\n",
    "    \"\"\"\n",
    "    try:\n",
    "        portfolio = _load(portfolio_filename)\n",
    "    except FileNotFoundError:\n",
    "        sys.exit(f\"No {portfolio_filename} file found\")\n",
    "\n",
    "    slugs = ','.join(portfolio['data'][el]['slug'] for el in portfolio['data'])\n",
    "\n",
    "    headers = {'X-CMC_PRO_API_KEY': api_key}\n",
    "    payload = {'slug': slugs, 'convert': currency}\n",
    "    url = f\"{COINMARKETCAP_API_URL}/cryptocurrency/quotes/latest\"\n",
    "\n",
    "    try:\n",
    "        res = requests.get(url, headers=headers, params=payload)\n",
    "    except requests.exceptions.RequestException as error:\n",
    "        sys.exit(f\"Something went wrong: {error}\")\n",
    "    if res.status_code != 200:\n",
    "        sys.exit(f\"Something went wrong with your call API: {res.status_code}\\n{res.json()}\")\n",
    "    invested = portfolio['invested']['quantity']\n",
    "    sum_, res, quotes = 0, {}, res.json()['data']\n",
    "    for cur in quotes:\n",
    "        hold = portfolio['data'][quotes[cur]['slug']]\n",
    "        value = quotes[cur]['quote'][currency]['price'] * hold['quantity']\n",
    "        sum_ += value\n",
    "        res[quotes[cur]['symbol']] = {\n",
    "            'price': quotes[cur]['quote'][currency]['price'],\n",
    "            'quantity': hold['quantity'],\n",
    "            'value': quotes[cur]['quote'][currency]['price'] * hold['quantity'],\n",
    "            'currency': currency,\n",
    "        }\n",
    "    res['total'] = {\n",
    "        'value': sum_,\n",
    "        'currency': currency,\n",
    "        'profit': sum_ - invested,\n",
    "        'ROI': sum_ / invested\n",
    "    }\n",
    "    print res"
   ]
  },
  {
   "cell_type": "code",
   "execution_count": 29,
   "metadata": {},
   "outputs": [
    {
     "ename": "KeyError",
     "evalue": "'ETH'",
     "output_type": "error",
     "traceback": [
      "\u001b[0;31m---------------------------------------------------------------------------\u001b[0m",
      "\u001b[0;31mKeyError\u001b[0m                                  Traceback (most recent call last)",
      "\u001b[0;32m/var/folders/gc/4nclb7mn1cl0hd5tpvk7td240000gn/T/ipykernel_26046/1119345686.py\u001b[0m in \u001b[0;36m<module>\u001b[0;34m\u001b[0m\n\u001b[1;32m      1\u001b[0m \u001b[0mcoinmarketcap_api_key\u001b[0m \u001b[0;34m=\u001b[0m \u001b[0mos\u001b[0m\u001b[0;34m.\u001b[0m\u001b[0mgetenv\u001b[0m\u001b[0;34m(\u001b[0m\u001b[0;34m'COINMARKETCAP_API'\u001b[0m\u001b[0;34m)\u001b[0m\u001b[0;34m\u001b[0m\u001b[0;34m\u001b[0m\u001b[0m\n\u001b[0;32m----> 2\u001b[0;31m \u001b[0mcompute_holding\u001b[0m\u001b[0;34m(\u001b[0m\u001b[0mcoinmarketcap_api_key\u001b[0m\u001b[0;34m,\u001b[0m \u001b[0;34m'files/portfolio.json'\u001b[0m\u001b[0;34m,\u001b[0m \u001b[0;34m'EUR'\u001b[0m\u001b[0;34m)\u001b[0m\u001b[0;34m\u001b[0m\u001b[0;34m\u001b[0m\u001b[0m\n\u001b[0m",
      "\u001b[0;32m/var/folders/gc/4nclb7mn1cl0hd5tpvk7td240000gn/T/ipykernel_26046/2728053232.py\u001b[0m in \u001b[0;36mcompute_holding\u001b[0;34m(api_key, portfolio_filename, currency)\u001b[0m\n\u001b[1;32m     21\u001b[0m     \u001b[0msum\u001b[0m\u001b[0;34m,\u001b[0m \u001b[0mres\u001b[0m\u001b[0;34m,\u001b[0m \u001b[0mquotes\u001b[0m \u001b[0;34m=\u001b[0m \u001b[0;36m0\u001b[0m\u001b[0;34m,\u001b[0m \u001b[0;34m{\u001b[0m\u001b[0;34m}\u001b[0m\u001b[0;34m,\u001b[0m \u001b[0mr\u001b[0m\u001b[0;34m.\u001b[0m\u001b[0mjson\u001b[0m\u001b[0;34m(\u001b[0m\u001b[0;34m)\u001b[0m\u001b[0;34m[\u001b[0m\u001b[0;34m'data'\u001b[0m\u001b[0;34m]\u001b[0m\u001b[0;34m\u001b[0m\u001b[0;34m\u001b[0m\u001b[0m\n\u001b[1;32m     22\u001b[0m     \u001b[0;32mfor\u001b[0m \u001b[0mcur\u001b[0m \u001b[0;32min\u001b[0m \u001b[0mquotes\u001b[0m\u001b[0;34m:\u001b[0m\u001b[0;34m\u001b[0m\u001b[0;34m\u001b[0m\u001b[0m\n\u001b[0;32m---> 23\u001b[0;31m         \u001b[0mhold\u001b[0m \u001b[0;34m=\u001b[0m \u001b[0mportfolio\u001b[0m\u001b[0;34m[\u001b[0m\u001b[0;34m'data'\u001b[0m\u001b[0;34m]\u001b[0m\u001b[0;34m[\u001b[0m\u001b[0mquotes\u001b[0m\u001b[0;34m[\u001b[0m\u001b[0mcur\u001b[0m\u001b[0;34m]\u001b[0m\u001b[0;34m[\u001b[0m\u001b[0;34m'symbol'\u001b[0m\u001b[0;34m]\u001b[0m\u001b[0;34m]\u001b[0m\u001b[0;34m\u001b[0m\u001b[0;34m\u001b[0m\u001b[0m\n\u001b[0m\u001b[1;32m     24\u001b[0m         \u001b[0mvalue\u001b[0m \u001b[0;34m=\u001b[0m \u001b[0mquotes\u001b[0m\u001b[0;34m[\u001b[0m\u001b[0mcur\u001b[0m\u001b[0;34m]\u001b[0m\u001b[0;34m[\u001b[0m\u001b[0;34m'quote'\u001b[0m\u001b[0;34m]\u001b[0m\u001b[0;34m[\u001b[0m\u001b[0mcurrency\u001b[0m\u001b[0;34m]\u001b[0m\u001b[0;34m[\u001b[0m\u001b[0;34m'price'\u001b[0m\u001b[0;34m]\u001b[0m \u001b[0;34m*\u001b[0m \u001b[0mhold\u001b[0m\u001b[0;34m[\u001b[0m\u001b[0;34m'quantity'\u001b[0m\u001b[0;34m]\u001b[0m\u001b[0;34m\u001b[0m\u001b[0;34m\u001b[0m\u001b[0m\n\u001b[1;32m     25\u001b[0m         \u001b[0msum\u001b[0m \u001b[0;34m+=\u001b[0m \u001b[0mvalue\u001b[0m\u001b[0;34m\u001b[0m\u001b[0;34m\u001b[0m\u001b[0m\n",
      "\u001b[0;31mKeyError\u001b[0m: 'ETH'"
     ]
    }
   ],
   "source": [
    "coinmarketcap_api_key = os.getenv('COINMARKETCAP_API')\n",
    "compute_holding(coinmarketcap_api_key, 'files/portfolio.json', 'EUR')"
   ]
  },
  {
   "cell_type": "code",
   "execution_count": 41,
   "metadata": {},
   "outputs": [
    {
     "data": {
      "text/plain": [
       "{'slug': 'ethereum', 'quantity': 0.7722, 'where': 'Metamask'}"
      ]
     },
     "execution_count": 41,
     "metadata": {},
     "output_type": "execute_result"
    }
   ],
   "source": [
    "# portfolio\n",
    "portfolio['data'][quotes['1027']['slug']]"
   ]
  },
  {
   "cell_type": "code",
   "execution_count": null,
   "metadata": {},
   "outputs": [],
   "source": []
  }
 ],
 "metadata": {
  "interpreter": {
   "hash": "657c2fb04f45c05fdd4fcc0ad4af9ddab7784ed0630009556385ea40316aff7c"
  },
  "kernelspec": {
   "display_name": "Python 3.8.9 64-bit ('crypto-aggregator-OXmvwJmw-py3.8': poetry)",
   "name": "python3"
  },
  "language_info": {
   "codemirror_mode": {
    "name": "ipython",
    "version": 3
   },
   "file_extension": ".py",
   "mimetype": "text/x-python",
   "name": "python",
   "nbconvert_exporter": "python",
   "pygments_lexer": "ipython3",
   "version": "3.8.9"
  },
  "orig_nbformat": 4
 },
 "nbformat": 4,
 "nbformat_minor": 2
}
