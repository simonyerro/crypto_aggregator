{
 "cells": [
  {
   "cell_type": "code",
   "execution_count": 28,
   "metadata": {},
   "outputs": [],
   "source": [
    "from dotenv import load_dotenv\n",
    "from helpers import *\n",
    "import os\n",
    "\n",
    "load_dotenv()\n",
    "coinmarketcap_api_key = os.getenv('COINMARKETCAP_API')\n",
    "\n",
    "if __name__ == \"__main__\":\n",
    "    # print(get_map())\n",
    "    res = compute_holding(coinmarketcap_api_key, 'portfolio.json', 'EUR')"
   ]
  },
  {
   "cell_type": "code",
   "execution_count": 19,
   "metadata": {},
   "outputs": [],
   "source": [
    "import helpers\n",
    "import requests\n",
    "\n",
    "COINMARKETCAP_API_URL = 'https://pro-api.coinmarketcap.com/v1'\n",
    "api_key = os.getenv('COINMARKETCAP_API')\n",
    "portfolio = helpers._load('portfolio.json')\n",
    "slugs = ','.join(portfolio['data'][e]['slug'] for e in portfolio['data'])\n",
    "\n",
    "headers = {'X-CMC_PRO_API_KEY': api_key}\n",
    "payload = {'slug': slugs, 'convert': 'EUR'}\n",
    "\n",
    "r = requests.get('{}/cryptocurrency/quotes/latest'.format(COINMARKETCAP_API_URL), headers=headers, params=payload)"
   ]
  },
  {
   "cell_type": "code",
   "execution_count": 54,
   "metadata": {},
   "outputs": [],
   "source": [
    "from helpers import _load\n",
    "\n",
    "def compute_holding(api_key, portfolio_filename, currency):\n",
    "    try:\n",
    "        portfolio = _load(portfolio_filename)\n",
    "    except FileNotFoundError:\n",
    "        sys.exit(\"No {} file found\".format(portfolio_filename))\n",
    "\n",
    "    slugs = ','.join(portfolio['data'][e]['slug'] for e in portfolio['data'])\n",
    "\n",
    "    headers = {'X-CMC_PRO_API_KEY': api_key}\n",
    "    payload = {'slug': slugs, 'convert': currency}\n",
    "\n",
    "    try:\n",
    "        r = requests.get('{}/cryptocurrency/quotes/latest'.format(COINMARKETCAP_API_URL), headers=headers, params=payload)\n",
    "    except requests.exceptions.RequestException as e:\n",
    "        sys.exit(\"Something went wrong: {}\".format(e))\n",
    "    if r.status_code != 200:\n",
    "        sys.exit(\"Something went wrong with your call API: {}\\n{}\".format(r.status_code, r.json()))\n",
    "    invested = portfolio['invested']['quantity']\n",
    "    sum, res, quotes = 0, {}, r.json()['data']\n",
    "    for cur in quotes:\n",
    "        hold = portfolio['data'][quotes[cur]['symbol']]\n",
    "        value = quotes[cur]['quote'][currency]['price'] * hold['quantity']\n",
    "        sum += value\n",
    "        res[quotes[cur]['symbol']] = {\n",
    "            'price': quotes[cur]['quote'][currency]['price'],\n",
    "            'quantity': hold['quantity'],\n",
    "            'value': quotes[cur]['quote'][currency]['price'] * hold['quantity'],\n",
    "            'currency': currency,\n",
    "        }\n",
    "    res['total'] = {\n",
    "        'value': sum,\n",
    "        'currency': currency,\n",
    "        'profit': sum - invested,\n",
    "        'ROI': sum / invested\n",
    "    }\n",
    "    return res"
   ]
  },
  {
   "cell_type": "code",
   "execution_count": 5,
   "metadata": {},
   "outputs": [
    {
     "data": {
      "text/plain": [
       "update_time {\n",
       "  seconds: 1635178790\n",
       "  nanos: 219731000\n",
       "}"
      ]
     },
     "execution_count": 5,
     "metadata": {},
     "output_type": "execute_result"
    }
   ],
   "source": [
    "import uuid\n",
    "from google.cloud import firestore\n",
    "from dotenv import load_dotenv\n",
    "\n",
    "load_dotenv()\n",
    "db = firestore.Client()\n",
    "custom_token = uuid.uuid4()\n",
    "\n",
    "db.collection(u'test').document(str(custom_token)).set({})"
   ]
  },
  {
   "cell_type": "code",
   "execution_count": 1,
   "metadata": {},
   "outputs": [
    {
     "name": "stdout",
     "output_type": "stream",
     "text": [
      "/home/simon/prog/crypto_aggregator/firebase_sa.json\n"
     ]
    }
   ],
   "source": [
    "print(os.getenv('GOOGLE_APPLICATION_CREDENTIALS'))"
   ]
  },
  {
   "cell_type": "code",
   "execution_count": null,
   "metadata": {},
   "outputs": [],
   "source": []
  }
 ],
 "metadata": {
  "interpreter": {
   "hash": "916dbcbb3f70747c44a77c7bcd40155683ae19c65e1c03b4aa3499c5328201f1"
  },
  "kernelspec": {
   "display_name": "Python 3.8.10 64-bit",
   "name": "python3"
  },
  "language_info": {
   "codemirror_mode": {
    "name": "ipython",
    "version": 3
   },
   "file_extension": ".py",
   "mimetype": "text/x-python",
   "name": "python",
   "nbconvert_exporter": "python",
   "pygments_lexer": "ipython3",
   "version": "3.8.10"
  },
  "orig_nbformat": 4
 },
 "nbformat": 4,
 "nbformat_minor": 2
}
