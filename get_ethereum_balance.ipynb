{
 "cells": [
  {
   "cell_type": "code",
   "execution_count": null,
   "source": [
    "import os\n",
    "from dotenv import load_dotenv\n",
    "import requests\n",
    "import json\n",
    "\n",
    "load_dotenv()\n",
    "\n",
    "eth_address = os.getenv('ETHEREUM_ADDRESS')\n",
    "openexchangerates_app_id = os.getenv('OPENEXCHANGERATES_APP_ID')\n",
    "\n",
    "def _dump(mails, namefile='currencies.json'):\n",
    "    with open(namefile, 'w') as outfile:\n",
    "        json.dump(mails, outfile)\n",
    "\n",
    "def _load(namefile='currencies.json'):\n",
    "    with open(namefile) as json_file:\n",
    "        return json.load(json_file)\n",
    "\n",
    "def _get_rates(currency='USD'):\n",
    "    try:\n",
    "        r = requests.get('https://openexchangerates.org/api/latest.json?app_id={}'.format(openexchangerates_app_id))\n",
    "    except requests.exceptions.RequestException as e:\n",
    "        raise SystemExit(\"Exception when getting latest currencies rates: {}\".format(e))\n",
    "    rates = r.json()['rates']\n",
    "    _dump(rates)\n",
    "    if currency not in rates:\n",
    "        raise SystemExit(\"This currency ({}) is not supported, It has to be a 3-letter code: \".format(currency))\n",
    "    return rates[currency]\n",
    "\n",
    "def get_currency_rate(cache=True, currency='USD'):\n",
    "    currency = currency.upper()\n",
    "    if currency == 'USD':\n",
    "        return 1\n",
    "    if cache:\n",
    "        try:\n",
    "            cached_currency = _load()\n",
    "        except FileNotFoundError:\n",
    "            return _get_rates(currency=currency)   \n",
    "        if currency not in cached_currency:\n",
    "            raise SystemExit(\"This currency ({}) is not supported, It has to be a 3-letter code: \".format(currency))\n",
    "        return cached_currency[currency]\n",
    "    else:\n",
    "        return _get_rates(currency=currency)\n",
    "\n",
    "def get_eth_wallet_balance(eth_address, currency='USD'):\n",
    "    try:\n",
    "        r = requests.get('https://api.blockchair.com/ethereum/dashboards/address/{}'.format(eth_address))\n",
    "    except requests.exceptions.RequestException as e:\n",
    "        raise SystemExit(\"Exception when getting ethereum wallet infos: {}\".format(e))\n",
    "    res = r.json()['data'][eth_address.lower()]['address']['balance_usd']\n",
    "    return res * get_currency_rate(currency=currency)\n",
    "\n",
    "if __name__ == \"__main__\":\n",
    "    print(get_eth_wallet_balance(eth_address, currency='EUR'))"
   ],
   "outputs": [],
   "metadata": {}
  }
 ],
 "metadata": {
  "orig_nbformat": 4,
  "language_info": {
   "name": "python",
   "version": "3.8.10",
   "mimetype": "text/x-python",
   "codemirror_mode": {
    "name": "ipython",
    "version": 3
   },
   "pygments_lexer": "ipython3",
   "nbconvert_exporter": "python",
   "file_extension": ".py"
  },
  "kernelspec": {
   "name": "python3",
   "display_name": "Python 3.8.10 64-bit"
  },
  "interpreter": {
   "hash": "916dbcbb3f70747c44a77c7bcd40155683ae19c65e1c03b4aa3499c5328201f1"
  }
 },
 "nbformat": 4,
 "nbformat_minor": 2
}